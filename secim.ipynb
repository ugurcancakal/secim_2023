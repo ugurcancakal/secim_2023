{
  "cells": [
    {
      "cell_type": "markdown",
      "metadata": {
        "id": "view-in-github",
        "colab_type": "text"
      },
      "source": [
        "<a href=\"https://colab.research.google.com/github/ugurcancakal/secim_2023/blob/main/secim.ipynb\" target=\"_parent\"><img src=\"https://colab.research.google.com/assets/colab-badge.svg\" alt=\"Open In Colab\"/></a>"
      ]
    },
    {
      "cell_type": "markdown",
      "metadata": {
        "id": "_NEcPmA-7R3W"
      },
      "source": [
        "# Seçim 2023\n",
        "\n",
        "Kim kaç oy alırsa kaç milletvekili çıkaracak onu hesaplıyoruz.\n",
        "\n",
        "Dhondt sisteminde, her siyasi partinin aldığı sandalye sayısı, aldığı oy sayısının bir dizi bölene bölünmesiyle hesaplanır. Bu not defteri, Dhondt sistemini kullanarak milletvekili seçimlerinin sonuçlarını hesaplamak için adım adım bir kılavuz sağlayacaktır. Gelin adım adım hesaplayalım."
      ]
    },
    {
      "cell_type": "markdown",
      "metadata": {
        "id": "9LfDw7Jf7R3W"
      },
      "source": [
        "## 1. Adım : Veri toplama\n",
        "\n",
        "Dhondt sistemindeki milletvekili seçimlerinin sonuçlarını hesaplamak için aşağıdaki verilere ihtiyacımız olacak:\n",
        "\n",
        "1. Seçimde kullanılan toplam geçerli oy sayısı\n",
        "2. Doldurulacak koltuk sayısı\n",
        "3. Seçime katılan her siyasi partinin aldığı oy sayısı\n",
        "\n",
        "Kolaylca anlayabilmek için kullanılan toplam geçerli oy sayısının 100.000 olduğunu ve doldurulacak 5 sandalye olduğunu varsayalım. 3 parti seçime katılmış ve partiler aşağıdaki oyları almış olsun.\n",
        "\n",
        "A Partisi: 50.000 oy\n",
        "B Partisi: 30.000 oy\n",
        "C Partisi: 20.000 oy"
      ]
    },
    {
      "cell_type": "code",
      "execution_count": 1,
      "metadata": {
        "id": "vnW3uwjc7R3X",
        "outputId": "59386af7-66fe-4252-aa82-a4b1b0fc443a",
        "colab": {
          "base_uri": "https://localhost:8080/"
        }
      },
      "outputs": [
        {
          "output_type": "stream",
          "name": "stdout",
          "text": [
            "100\n"
          ]
        }
      ],
      "source": [
        "kullanilan_oy = 100000\n",
        "vekil_sayisi = 5\n",
        "\n",
        "oranlar = {\n",
        "    \"A\": 50,\n",
        "    \"B\": 30,\n",
        "    \"C\": 20,\n",
        "}\n",
        "\n",
        "# Tahminin toplamını kontrol edelim\n",
        "\n",
        "print(sum(oranlar.values()))\n"
      ]
    },
    {
      "cell_type": "markdown",
      "metadata": {
        "id": "KkdsskkR7R3X"
      },
      "source": [
        "## 2. Adım: Bölenleri hesaplayalım\n",
        "\n",
        "Bölenler, her bir partinin aldığı toplam oy sayısının \n",
        "\n",
        "**1'den, doldurulacak sandalye sayısına tamsayı sırasına bölünmesiyle hesaplanır.**\n",
        "\n",
        "Örneğin, doldurulacak 5 koltuk varsa, bölenler aşağıdaki gibi hesaplanır:\n",
        "\n",
        "|   | A             | B             | C             |\n",
        "|---|---------------|---------------|---------------|\n",
        "| 1 | 50.000 / 1 = 50.000  | 30.000 / 1 = 30.000  | 20.000 / 1 = 20.000  |\n",
        "| 2 | 50.000 / 2 = 25.000  | 30.000 / 2 = 15.000  | 20.000 / 2 = 10.000  |\n",
        "| 3 | 50.000 / 3 = 16.666,67 | 30.000 / 3 = 10.000  | 20.000 / 3 = 6.666,66 |\n",
        "| 4 | 50.000 / 4 = 12.500  | 30.000 / 4 = 7.500   | 20.000 / 4 = 5.000   |\n",
        "| 5 | 50.000 / 5 = 10.000  | 30.000 / 5 = 3.750   | 20.000 / 5 = 4.000   |\n"
      ]
    },
    {
      "cell_type": "code",
      "execution_count": 2,
      "metadata": {
        "id": "P53jSohi7R3Y",
        "outputId": "0ee7cba8-a484-4044-d40a-4bfef6d7046a",
        "colab": {
          "base_uri": "https://localhost:8080/"
        }
      },
      "outputs": [
        {
          "output_type": "stream",
          "name": "stdout",
          "text": [
            "[50000.0, 30000.0, 20000.0, 25000.0, 15000.0, 10000.0, 16666.666666666668, 10000.0, 6666.666666666667, 12500.0, 7500.0, 5000.0, 10000.0, 6000.0, 4000.0]\n",
            "['A', 'B', 'C', 'A', 'B', 'C', 'A', 'B', 'C', 'A', 'B', 'C', 'A', 'B', 'C']\n"
          ]
        }
      ],
      "source": [
        "bolenler = []\n",
        "partiler = []\n",
        "for vekil in range(vekil_sayisi):\n",
        "    for parti, oran in oranlar.items():\n",
        "        bolen = (kullanilan_oy * oran / 100) / (vekil + 1)\n",
        "        bolenler.append(bolen)\n",
        "        partiler.append(parti)\n",
        "\n",
        "print(bolenler)\n",
        "print(partiler)\n"
      ]
    },
    {
      "cell_type": "markdown",
      "metadata": {
        "id": "-lT-ZoNo7R3Y"
      },
      "source": [
        "## 3. Adım: Koltukların dağıtımı\n",
        "\n",
        "En çok oyu alan partiden başlayarak, bölenlerinin her birini aldığı toplam oy sayısına bölün. Daha sonra en yüksek bölümü veren partiye bir sandalye tahsis edilir ve böleni bir artırılır. Tüm koltuklar tahsis edilene kadar işlem tekrarlanır.\n",
        "\n",
        "Yukarıdaki örnek verileri kullanarak, koltuk tahsisi şu şekilde ilerleyecektir:\n",
        "\n",
        "1. İlk vekil ilk böleni (50.000) olan A Partisine gidiyor.\n",
        "\n",
        "|   | A             | B             | C             |\n",
        "|---|---------------|---------------|---------------|\n",
        "| 1 | <mark>**50.000 / 1 = 50.000**</mark>  | 30.000 / 1 = 30.000  | 20.000 / 1 = 20.000  |\n",
        "| 2 | 50.000 / 2 = 25.000  | 30.000 / 2 = 15.000  | 20.000 / 2 = 10.000  |\n",
        "| 3 | 50.000 / 3 = 16.666,67 | 30.000 / 3 = 10.000  | 20.000 / 3 = 6.666,66 |\n",
        "| 4 | 50.000 / 4 = 12.500  | 30.000 / 4 = 7.500   | 20.000 / 4 = 5.000   |\n",
        "| 5 | 50.000 / 5 = 10.000  | 30.000 / 5 = 3.750   | 20.000 / 5 = 4.000   |\n",
        "\n",
        "2.  vekil kalan en yüksek bölene yani 30.000'e yani B partisine gidiyor.\n",
        "\n",
        "|   | A             | B             | C             |\n",
        "|---|---------------|---------------|---------------|\n",
        "| 1 | *~~50.000 / 1 = 50.000~~* | <mark>**30.000 / 1 = 30.000**</mark>  | 20.000 / 1 = 20.000  |\n",
        "| 2 | 50.000 / 2 = 25.000  | 30.000 / 2 = 15.000  | 20.000 / 2 = 10.000  |\n",
        "| 3 | 50.000 / 3 = 16.666,67 | 30.000 / 3 = 10.000  | 20.000 / 3 = 6.666,66 |\n",
        "| 4 | 50.000 / 4 = 12.500  | 30.000 / 4 = 7.500   | 20.000 / 4 = 5.000   |\n",
        "| 5 | 50.000 / 5 = 10.000  | 30.000 / 5 = 3.750   | 20.000 / 5 = 4.000   |\n",
        "\n",
        "3.  vekil, sıradaki en yüksek bölen 25.000'e yani A partisine gidiyor.\n",
        "\n",
        "|   | A             | B             | C             |\n",
        "|---|---------------|---------------|---------------|\n",
        "| 1 | *~~50.000 / 1 = 50.000~~* | *~~30.000 / 1 = 30.000~~* | 20.000 / 1 = 20.000  |\n",
        "| 2 | <mark>**50.000 / 2 = 25.000**</mark>   | 30.000 / 2 = 15.000  | 20.000 / 2 = 10.000  |\n",
        "| 3 | 50.000 / 3 = 16.666,67 | 30.000 / 3 = 10.000  | 20.000 / 3 = 6.666,66 |\n",
        "| 4 | 50.000 / 4 = 12.500  | 30.000 / 4 = 7.500   | 20.000 / 4 = 5.000   |\n",
        "| 5 | 50.000 / 5 = 10.000  | 30.000 / 5 = 3.750   | 20.000 / 5 = 4.000   |\n",
        "\n",
        "4.  vekil, sıradaki en yüksek bölen 20.000'e yani C partisine gidiyor.\n",
        "\n",
        "|   | A             | B             | C             |\n",
        "|---|---------------|---------------|---------------|\n",
        "| 1 | *~~50.000 / 1 = 50.000~~* | *~~30.000 / 1 = 30.000~~* | <mark>**20.000 / 1 = 20.000**</mark>   |\n",
        "| 2 | *~~350.000 / 2 = 25.000~~*  | 30.000 / 2 = 15.000  | 20.000 / 2 = 10.000  |\n",
        "| 3 | 50.000 / 3 = 16.666,67 | 30.000 / 3 = 10.000  | 20.000 / 3 = 6.666,66 |\n",
        "| 4 | 50.000 / 4 = 12.500  | 30.000 / 4 = 7.500   | 20.000 / 4 = 5.000   |\n",
        "| 5 | 50.000 / 5 = 10.000  | 30.000 / 5 = 3.750   | 20.000 / 5 = 4.000   |\n",
        "\n",
        "5.  vekil, ve son vekil 16.666,67 ile A partisinde\n",
        "\n",
        "|   | A             | B             | C             |\n",
        "|---|---------------|---------------|---------------|\n",
        "| 1 | *~~50.000 / 1 = 50.000~~* | *~~30.000 / 1 = 30.000~~* | *~~20.000 / 1 = 20.000~~*   |\n",
        "| 2 | *~~350.000 / 2 = 25.000~~*  | 30.000 / 2 = 15.000  | 20.000 / 2 = 10.000  |\n",
        "| 3 | <mark>**50.000 / 3 = 16.666,67**</mark> | 30.000 / 3 = 10.000  | 20.000 / 3 = 6.666,66 |\n",
        "| 4 | 50.000 / 4 = 12.500  | 30.000 / 4 = 7.500   | 20.000 / 4 = 5.000   |\n",
        "| 5 | 50.000 / 5 = 10.000  | 30.000 / 5 = 3.750   | 20.000 / 5 = 4.000   |\n",
        "\n",
        "\n"
      ]
    },
    {
      "cell_type": "code",
      "execution_count": 3,
      "metadata": {
        "id": "_260AMeb7R3Y",
        "outputId": "ce60b2ab-14aa-4018-c879-fb7d78558956",
        "colab": {
          "base_uri": "https://localhost:8080/"
        }
      },
      "outputs": [
        {
          "output_type": "execute_result",
          "data": {
            "text/plain": [
              "[(50000.0, 'A'),\n",
              " (30000.0, 'B'),\n",
              " (25000.0, 'A'),\n",
              " (20000.0, 'C'),\n",
              " (16666.666666666668, 'A')]"
            ]
          },
          "metadata": {},
          "execution_count": 3
        }
      ],
      "source": [
        "bolen_sirasi = sorted(zip(bolenler, partiler), reverse=True)\n",
        "vekiller = bolen_sirasi[:vekil_sayisi]\n",
        "vekiller\n"
      ]
    },
    {
      "cell_type": "markdown",
      "metadata": {
        "id": "H4PscnpH7R3Z"
      },
      "source": [
        "## 4. Adım : Gerçek Hayat Örneği\n",
        "\n",
        "Önce 2023 seçimlerine katılacak gerçek partilerin oy oranlarını girelim. Son arayüzde değiştirebiliriz.\n",
        "\n",
        "Şimdilik İstanbul 1. bölge için hesaplama yapacağız. YSK verilerine göre bu seçim bölgesinin toplam nüfusu 5.616.577 iken, çıkaracağı milletvekili sayısı 35, bir milletvekiline düşen kişi sayısı ise 160.474 kişidir.\n",
        "\n",
        "https://www.resmigazete.gov.tr/eskiler/2022/04/20220405-5.pdf\n",
        "\n",
        "Katılım oranını %80 olarak alırsak oy kullanacak kişi sayısı yaklaşık olarak 4.500.000 olur."
      ]
    },
    {
      "cell_type": "code",
      "execution_count": 4,
      "metadata": {
        "id": "ZgEghaAu7R3Z",
        "outputId": "7a6d62ca-3584-4505-92d1-e11e69ab6d9a",
        "colab": {
          "base_uri": "https://localhost:8080/"
        }
      },
      "outputs": [
        {
          "output_type": "stream",
          "name": "stdout",
          "text": [
            "100\n"
          ]
        }
      ],
      "source": [
        "kullanilan_toplam_oy = 4500000\n",
        "partiler = {\n",
        "    \"CHP\": 35,\n",
        "    \"AKP\": 30,\n",
        "    \"HDP\": 10,\n",
        "    \"İYİP\": 8,\n",
        "    \"MHP\": 7,\n",
        "    \"TİP\": 5,\n",
        "    \"DİĞER\": 5,\n",
        "}\n",
        "\n",
        "print(sum(partiler.values()))\n",
        "\n",
        "assert (\n",
        "    sum(partiler.values()) == 100\n",
        "), \"Tahminlerin toplamı 100 olmalı, toplam: {}\".format(sum(partiler.values()))\n"
      ]
    },
    {
      "cell_type": "markdown",
      "metadata": {
        "id": "9LvTUwJO7R3Z"
      },
      "source": [
        "## 4.1 Arayüzün parçalarını oluşturalım\n",
        "\n",
        "Önce tüm oylar\n"
      ]
    },
    {
      "cell_type": "code",
      "execution_count": 5,
      "metadata": {
        "id": "eBXkEP6T7R3Z"
      },
      "outputs": [],
      "source": [
        "import ipywidgets as widgets\n",
        "from IPython.display import display, clear_output\n"
      ]
    },
    {
      "cell_type": "code",
      "execution_count": 6,
      "metadata": {
        "id": "Y5R0QVBc7R3Z",
        "outputId": "0552d80e-bdec-4685-e352-2e253276cdb4",
        "colab": {
          "base_uri": "https://localhost:8080/",
          "height": 0,
          "referenced_widgets": [
            "bb8b244727684fd4a6bbcb9e8982130d",
            "36eff0b517bb467ca6fd43d37b87ca1e",
            "fc1cbff8d41345de8b479f40971477e3"
          ]
        }
      },
      "outputs": [
        {
          "output_type": "display_data",
          "data": {
            "text/plain": [
              "IntSlider(value=4500000, description='Bölgedeki Tüm Oylar:', layout=Layout(width='90%'), max=100000000, step=1…"
            ],
            "application/vnd.jupyter.widget-view+json": {
              "version_major": 2,
              "version_minor": 0,
              "model_id": "bb8b244727684fd4a6bbcb9e8982130d"
            }
          },
          "metadata": {}
        }
      ],
      "source": [
        "tum_oylar = widgets.IntSlider(\n",
        "    value=kullanilan_toplam_oy,\n",
        "    min=0,\n",
        "    max=100000000,\n",
        "    step=1000,\n",
        "    description=\"Bölgedeki Tüm Oylar:\",\n",
        "    style={\"description_width\": \"initial\"},\n",
        "    layout=widgets.Layout(width=\"90%\"),\n",
        "    readout_style=\"font-size: 18px;\",\n",
        ")\n",
        "\n",
        "display(tum_oylar)\n"
      ]
    },
    {
      "cell_type": "markdown",
      "metadata": {
        "id": "CokB8VWd7R3Z"
      },
      "source": [
        "Sandalye sayısı"
      ]
    },
    {
      "cell_type": "code",
      "execution_count": 7,
      "metadata": {
        "id": "US2TvOB77R3Z",
        "outputId": "61a6dd8f-7cc0-499d-9750-14b4875b96d1",
        "colab": {
          "base_uri": "https://localhost:8080/",
          "height": 0,
          "referenced_widgets": [
            "7fe98fc092a74fd290e93d9cf63236ec",
            "84e01d94e27b4683b466ecec75159168",
            "0c29b5ee8a654377867c2ceec09acf35"
          ]
        }
      },
      "outputs": [
        {
          "output_type": "display_data",
          "data": {
            "text/plain": [
              "IntSlider(value=35, description='Sandalye Sayisi:', layout=Layout(width='90%'), max=600, style=SliderStyle(des…"
            ],
            "application/vnd.jupyter.widget-view+json": {
              "version_major": 2,
              "version_minor": 0,
              "model_id": "7fe98fc092a74fd290e93d9cf63236ec"
            }
          },
          "metadata": {}
        }
      ],
      "source": [
        "sandalye_sayisi = widgets.IntSlider(\n",
        "    value=35,\n",
        "    min=0,\n",
        "    max=600,\n",
        "    step=1,\n",
        "    description=\"Sandalye Sayisi:\",\n",
        "    style={\"description_width\": \"initial\"},\n",
        "    layout=widgets.Layout(width=\"90%\"),\n",
        "    readout_style=\"font-size: 18px;\",\n",
        ")\n",
        "\n",
        "display(sandalye_sayisi)\n"
      ]
    },
    {
      "cell_type": "markdown",
      "metadata": {
        "id": "6r7eDGOW7R3a"
      },
      "source": [
        "Partilerin oy oranları"
      ]
    },
    {
      "cell_type": "code",
      "execution_count": 8,
      "metadata": {
        "id": "ygxY87F67R3a",
        "outputId": "369c0a1f-e215-4d90-8da0-66f854ae74ba",
        "colab": {
          "base_uri": "https://localhost:8080/",
          "height": 0,
          "referenced_widgets": [
            "2bc41fd3688640a481e9f5dcbac20dbe",
            "3bf994de854949b4a5684117b9f65f0b",
            "9b33dbefe075475e95282b3506447dbb",
            "c266735d4e0b4df69bea62d9362a2402",
            "b7c9cc27938649358f56897dd838a81a",
            "7a8f18b2798049cabc762a3ee844bd25",
            "e3c00e573eb84bc198ac8993671f1d47",
            "8a92736b15bc4ed8bc989d7fe50ff5cb",
            "a90af33b7c4a448d84afac8f51356ec1",
            "d35a6883e14f4ac6908feab497b848e2",
            "721d9fdb65454dacab7df0de2e8b03df",
            "1ea9967e890a4930995001e0ea751c6d",
            "ce42207e76424ba2a00ebdd68120b942",
            "551cbb96145c456186b8463bb21fd099",
            "9cce84850d574618a39cc96cf3ffecaf",
            "1af2035e067d4ebc96f08c118dc96066",
            "17be336ff78a4153841cf7a1b018a13e",
            "d3576afeb3864e8fadd0db99d4ca3aa7",
            "d380658b2b304fc69d875fa637a296b8",
            "80d7356d22a24541b6e79ec5f4a0f21c",
            "713aed3e48e3494d9de93e330d0baf00",
            "4d03f412ef2a47939e567ba01df71714",
            "f4b2d9e648774536ad26332d00d88138"
          ]
        }
      },
      "outputs": [
        {
          "output_type": "display_data",
          "data": {
            "text/plain": [
              "VBox(children=(FloatSlider(value=35.0, description='CHP Oy Oranı (%)', layout=Layout(width='90%'), style=Slide…"
            ],
            "application/vnd.jupyter.widget-view+json": {
              "version_major": 2,
              "version_minor": 0,
              "model_id": "2bc41fd3688640a481e9f5dcbac20dbe"
            }
          },
          "metadata": {}
        }
      ],
      "source": [
        "partilerin_oylari = {}\n",
        "for parti, oran in partiler.items():\n",
        "    partilerin_oylari[parti] = widgets.FloatSlider(\n",
        "        value=oran,\n",
        "        min=0.0,\n",
        "        max=100.0,\n",
        "        step=0.1,\n",
        "        description=f\"{parti} Oy Oranı (%)\",\n",
        "        style={\"description_width\": \"initial\"},\n",
        "        layout=widgets.Layout(width=\"90%\"),\n",
        "        readout_style=\"font-size: 18px;\",\n",
        "    )\n",
        "\n",
        "\n",
        "container = widgets.VBox()\n",
        "for party, slider in partilerin_oylari.items():\n",
        "    container.children += (slider,)\n",
        "\n",
        "display(container)\n"
      ]
    },
    {
      "cell_type": "markdown",
      "metadata": {
        "id": "fB5Qhvco7R3a"
      },
      "source": [
        "Hepsi birlikte"
      ]
    },
    {
      "cell_type": "code",
      "execution_count": 9,
      "metadata": {
        "id": "HPM670G97R3a",
        "outputId": "9ef1efb5-5fd6-47a3-e599-068bea29c93b",
        "colab": {
          "base_uri": "https://localhost:8080/",
          "height": 0,
          "referenced_widgets": [
            "30ed43334722436aa6bd3a2e33ac372a",
            "bb8b244727684fd4a6bbcb9e8982130d",
            "7fe98fc092a74fd290e93d9cf63236ec",
            "3bf994de854949b4a5684117b9f65f0b",
            "9b33dbefe075475e95282b3506447dbb",
            "c266735d4e0b4df69bea62d9362a2402",
            "b7c9cc27938649358f56897dd838a81a",
            "7a8f18b2798049cabc762a3ee844bd25",
            "e3c00e573eb84bc198ac8993671f1d47",
            "8a92736b15bc4ed8bc989d7fe50ff5cb",
            "63cb4d080c8447b286a9e08ff00224c6",
            "42f0f601ccee4540b3c928269517fab2",
            "6025ec4c014448248f145e6451506639",
            "36eff0b517bb467ca6fd43d37b87ca1e",
            "fc1cbff8d41345de8b479f40971477e3",
            "84e01d94e27b4683b466ecec75159168",
            "0c29b5ee8a654377867c2ceec09acf35",
            "d35a6883e14f4ac6908feab497b848e2",
            "721d9fdb65454dacab7df0de2e8b03df",
            "1ea9967e890a4930995001e0ea751c6d",
            "ce42207e76424ba2a00ebdd68120b942",
            "551cbb96145c456186b8463bb21fd099",
            "9cce84850d574618a39cc96cf3ffecaf",
            "1af2035e067d4ebc96f08c118dc96066",
            "17be336ff78a4153841cf7a1b018a13e",
            "d3576afeb3864e8fadd0db99d4ca3aa7",
            "d380658b2b304fc69d875fa637a296b8",
            "80d7356d22a24541b6e79ec5f4a0f21c",
            "713aed3e48e3494d9de93e330d0baf00",
            "4d03f412ef2a47939e567ba01df71714",
            "f4b2d9e648774536ad26332d00d88138",
            "2e9decd171344b66bf04caa21d02f916",
            "9af122c52a5142d586d67d4ff31a89fe",
            "2d66ee20b43241719ea198d8c2cc1751"
          ]
        }
      },
      "outputs": [
        {
          "output_type": "display_data",
          "data": {
            "text/plain": [
              "VBox(children=(IntSlider(value=4500000, description='Bölgedeki Tüm Oylar:', layout=Layout(width='90%'), max=10…"
            ],
            "application/vnd.jupyter.widget-view+json": {
              "version_major": 2,
              "version_minor": 0,
              "model_id": "30ed43334722436aa6bd3a2e33ac372a"
            }
          },
          "metadata": {}
        }
      ],
      "source": [
        "buton = widgets.Button(\n",
        "    description=\"Dağılım Hesapla\", layout=widgets.Layout(width=\"90%\")\n",
        ")\n",
        "sonuc = widgets.Output()\n",
        "\n",
        "container = widgets.VBox([tum_oylar, sandalye_sayisi])\n",
        "for party, slider in partilerin_oylari.items():\n",
        "    container.children += (slider,)\n",
        "\n",
        "container.children += (buton, sonuc)\n",
        "\n",
        "display(container)\n"
      ]
    },
    {
      "cell_type": "markdown",
      "metadata": {
        "id": "oGPQQYO-7R3a"
      },
      "source": [
        "## 4.2 Hesaplama Fonksiyonunu yazalım\n",
        "\n",
        "Yukarıda gördüğünüz gibi dağılımı hesapla tuşu hiçbir şey yapmıyor. Şimdi bunu yapalım."
      ]
    },
    {
      "cell_type": "code",
      "execution_count": 10,
      "metadata": {
        "id": "NWTXsanh7R3a"
      },
      "outputs": [],
      "source": [
        "def sonuc_hesapla(tum_oylar, sandalye_sayisi, parti_oylari):\n",
        "    bolenler = {}\n",
        "\n",
        "    for parti, oylar in parti_oylari.items():\n",
        "        bolenler[parti] = []\n",
        "        for i in range(1, sandalye_sayisi + 1):\n",
        "            bolen = (oylar / 100) * (tum_oylar / i)\n",
        "            bolenler[parti].append(bolen)\n",
        "\n",
        "    sandalye = {}\n",
        "\n",
        "    for i in range(sandalye_sayisi):\n",
        "        max_bolum = 0\n",
        "        kazanan_parti = None\n",
        "        for parti, bolen_listesi in bolenler.items():\n",
        "            bolum = bolen_listesi[0]\n",
        "            if bolum > max_bolum:\n",
        "                max_bolum = bolum\n",
        "                kazanan_parti = parti\n",
        "        sandalye[kazanan_parti] = sandalye.get(kazanan_parti, 0) + 1\n",
        "        bolenler[kazanan_parti].pop(0)\n",
        "\n",
        "    return sandalye"
      ]
    },
    {
      "cell_type": "code",
      "execution_count": 11,
      "metadata": {
        "id": "KKBV21lK7R3a"
      },
      "outputs": [],
      "source": [
        "def on_button_click(b):\n",
        "    parti_oylari = {}\n",
        "    toplam_yuzde = 0\n",
        "    for parti, slider in partilerin_oylari.items():\n",
        "        yuzde = slider.value\n",
        "        toplam_yuzde += yuzde\n",
        "        parti_oylari[parti] = yuzde\n",
        "    if toplam_yuzde != 100:\n",
        "        with sonuc:\n",
        "            clear_output()\n",
        "            print(f\"Tahminlerin toplamı 100 olmalı! Şu an toplam: {toplam_yuzde}\")\n",
        "    else:\n",
        "        with sonuc:\n",
        "            clear_output()\n",
        "            sonuclar = sonuc_hesapla(tum_oylar.value, sandalye_sayisi.value, parti_oylari)\n",
        "            for parti, sayi in sonuclar.items():\n",
        "                print(f\"{parti} milletvekili sayısı: {sayi}\")\n",
        "\n",
        "\n",
        "buton.on_click(on_button_click)\n"
      ]
    },
    {
      "cell_type": "markdown",
      "metadata": {
        "id": "bn_AqYd57R3a"
      },
      "source": [
        "## 4.3 Hepsini Bir Araya Toplayalım"
      ]
    },
    {
      "cell_type": "code",
      "execution_count": 12,
      "metadata": {
        "id": "I5m6Qnc07R3a"
      },
      "outputs": [],
      "source": [
        "buton = widgets.Button(\n",
        "    description=\"Dağılım Hesapla\", layout=widgets.Layout(width=\"90%\")\n",
        ")\n",
        "buton.on_click(on_button_click)\n",
        "sonuc = widgets.Output()\n",
        "\n",
        "container = widgets.VBox([tum_oylar, sandalye_sayisi])\n",
        "for party, slider in partilerin_oylari.items():\n",
        "    container.children += (slider,)\n",
        "\n",
        "container.children += (buton, sonuc)"
      ]
    },
    {
      "cell_type": "markdown",
      "metadata": {
        "id": "55mdUGGk7R3a"
      },
      "source": [
        "## 4.4 Şimdi Oynayabiliriz\n",
        "\n",
        "Not : Herhangi bir noktada bozulduğunu düşünürseniz **Restart** ve **Run All** tuşlarına basın. Her şey sıfırlanacak ve yeniden hesaplanacaktır."
      ]
    },
    {
      "cell_type": "code",
      "execution_count": 13,
      "metadata": {
        "id": "4_UdGmkV7R3a",
        "outputId": "ebe16c51-3ac8-4605-c6c4-931e2bc486cc",
        "colab": {
          "base_uri": "https://localhost:8080/",
          "height": 462,
          "referenced_widgets": [
            "e9056874cb4743f3aac1db361350fb86",
            "bb8b244727684fd4a6bbcb9e8982130d",
            "7fe98fc092a74fd290e93d9cf63236ec",
            "3bf994de854949b4a5684117b9f65f0b",
            "9b33dbefe075475e95282b3506447dbb",
            "c266735d4e0b4df69bea62d9362a2402",
            "b7c9cc27938649358f56897dd838a81a",
            "7a8f18b2798049cabc762a3ee844bd25",
            "e3c00e573eb84bc198ac8993671f1d47",
            "8a92736b15bc4ed8bc989d7fe50ff5cb",
            "19794c0e89a24e689dc957f03582c5e7",
            "a84d411314e145c98136c8ab9530ec6c",
            "b545710e9da44cd3889a7fdbbbb842f6",
            "36eff0b517bb467ca6fd43d37b87ca1e",
            "fc1cbff8d41345de8b479f40971477e3",
            "84e01d94e27b4683b466ecec75159168",
            "0c29b5ee8a654377867c2ceec09acf35",
            "d35a6883e14f4ac6908feab497b848e2",
            "721d9fdb65454dacab7df0de2e8b03df",
            "1ea9967e890a4930995001e0ea751c6d",
            "ce42207e76424ba2a00ebdd68120b942",
            "551cbb96145c456186b8463bb21fd099",
            "9cce84850d574618a39cc96cf3ffecaf",
            "1af2035e067d4ebc96f08c118dc96066",
            "17be336ff78a4153841cf7a1b018a13e",
            "d3576afeb3864e8fadd0db99d4ca3aa7",
            "d380658b2b304fc69d875fa637a296b8",
            "80d7356d22a24541b6e79ec5f4a0f21c",
            "713aed3e48e3494d9de93e330d0baf00",
            "4d03f412ef2a47939e567ba01df71714",
            "f4b2d9e648774536ad26332d00d88138",
            "c32dbb2023964cbdaa1ad7eeeab301a0",
            "69fed2503919473c982fbffd6ea7e610",
            "6d7fe5b7d4454cab8a9674491e313b61"
          ]
        }
      },
      "outputs": [
        {
          "output_type": "display_data",
          "data": {
            "text/plain": [
              "VBox(children=(IntSlider(value=4500000, description='Bölgedeki Tüm Oylar:', layout=Layout(width='90%'), max=10…"
            ],
            "application/vnd.jupyter.widget-view+json": {
              "version_major": 2,
              "version_minor": 0,
              "model_id": "e9056874cb4743f3aac1db361350fb86"
            }
          },
          "metadata": {}
        }
      ],
      "source": [
        "display(container)\n"
      ]
    }
  ],
  "metadata": {
    "kernelspec": {
      "display_name": "tensorflow-env",
      "language": "python",
      "name": "python3"
    },
    "language_info": {
      "codemirror_mode": {
        "name": "ipython",
        "version": 3
      },
      "file_extension": ".py",
      "mimetype": "text/x-python",
      "name": "python",
      "nbconvert_exporter": "python",
      "pygments_lexer": "ipython3",
      "version": "3.10.4"
    },
    "orig_nbformat": 4,
    "colab": {
      "provenance": [],
      "include_colab_link": true
    },
    "widgets": {
      "application/vnd.jupyter.widget-state+json": {
        "bb8b244727684fd4a6bbcb9e8982130d": {
          "model_module": "@jupyter-widgets/controls",
          "model_name": "IntSliderModel",
          "model_module_version": "1.5.0",
          "state": {
            "_dom_classes": [],
            "_model_module": "@jupyter-widgets/controls",
            "_model_module_version": "1.5.0",
            "_model_name": "IntSliderModel",
            "_view_count": null,
            "_view_module": "@jupyter-widgets/controls",
            "_view_module_version": "1.5.0",
            "_view_name": "IntSliderView",
            "continuous_update": true,
            "description": "Bölgedeki Tüm Oylar:",
            "description_tooltip": null,
            "disabled": false,
            "layout": "IPY_MODEL_36eff0b517bb467ca6fd43d37b87ca1e",
            "max": 100000000,
            "min": 0,
            "orientation": "horizontal",
            "readout": true,
            "readout_format": "d",
            "step": 1000,
            "style": "IPY_MODEL_fc1cbff8d41345de8b479f40971477e3",
            "value": 4500000
          }
        },
        "36eff0b517bb467ca6fd43d37b87ca1e": {
          "model_module": "@jupyter-widgets/base",
          "model_name": "LayoutModel",
          "model_module_version": "1.2.0",
          "state": {
            "_model_module": "@jupyter-widgets/base",
            "_model_module_version": "1.2.0",
            "_model_name": "LayoutModel",
            "_view_count": null,
            "_view_module": "@jupyter-widgets/base",
            "_view_module_version": "1.2.0",
            "_view_name": "LayoutView",
            "align_content": null,
            "align_items": null,
            "align_self": null,
            "border": null,
            "bottom": null,
            "display": null,
            "flex": null,
            "flex_flow": null,
            "grid_area": null,
            "grid_auto_columns": null,
            "grid_auto_flow": null,
            "grid_auto_rows": null,
            "grid_column": null,
            "grid_gap": null,
            "grid_row": null,
            "grid_template_areas": null,
            "grid_template_columns": null,
            "grid_template_rows": null,
            "height": null,
            "justify_content": null,
            "justify_items": null,
            "left": null,
            "margin": null,
            "max_height": null,
            "max_width": null,
            "min_height": null,
            "min_width": null,
            "object_fit": null,
            "object_position": null,
            "order": null,
            "overflow": null,
            "overflow_x": null,
            "overflow_y": null,
            "padding": null,
            "right": null,
            "top": null,
            "visibility": null,
            "width": "90%"
          }
        },
        "fc1cbff8d41345de8b479f40971477e3": {
          "model_module": "@jupyter-widgets/controls",
          "model_name": "SliderStyleModel",
          "model_module_version": "1.5.0",
          "state": {
            "_model_module": "@jupyter-widgets/controls",
            "_model_module_version": "1.5.0",
            "_model_name": "SliderStyleModel",
            "_view_count": null,
            "_view_module": "@jupyter-widgets/base",
            "_view_module_version": "1.2.0",
            "_view_name": "StyleView",
            "description_width": "initial",
            "handle_color": null
          }
        },
        "7fe98fc092a74fd290e93d9cf63236ec": {
          "model_module": "@jupyter-widgets/controls",
          "model_name": "IntSliderModel",
          "model_module_version": "1.5.0",
          "state": {
            "_dom_classes": [],
            "_model_module": "@jupyter-widgets/controls",
            "_model_module_version": "1.5.0",
            "_model_name": "IntSliderModel",
            "_view_count": null,
            "_view_module": "@jupyter-widgets/controls",
            "_view_module_version": "1.5.0",
            "_view_name": "IntSliderView",
            "continuous_update": true,
            "description": "Sandalye Sayisi:",
            "description_tooltip": null,
            "disabled": false,
            "layout": "IPY_MODEL_84e01d94e27b4683b466ecec75159168",
            "max": 600,
            "min": 0,
            "orientation": "horizontal",
            "readout": true,
            "readout_format": "d",
            "step": 1,
            "style": "IPY_MODEL_0c29b5ee8a654377867c2ceec09acf35",
            "value": 35
          }
        },
        "84e01d94e27b4683b466ecec75159168": {
          "model_module": "@jupyter-widgets/base",
          "model_name": "LayoutModel",
          "model_module_version": "1.2.0",
          "state": {
            "_model_module": "@jupyter-widgets/base",
            "_model_module_version": "1.2.0",
            "_model_name": "LayoutModel",
            "_view_count": null,
            "_view_module": "@jupyter-widgets/base",
            "_view_module_version": "1.2.0",
            "_view_name": "LayoutView",
            "align_content": null,
            "align_items": null,
            "align_self": null,
            "border": null,
            "bottom": null,
            "display": null,
            "flex": null,
            "flex_flow": null,
            "grid_area": null,
            "grid_auto_columns": null,
            "grid_auto_flow": null,
            "grid_auto_rows": null,
            "grid_column": null,
            "grid_gap": null,
            "grid_row": null,
            "grid_template_areas": null,
            "grid_template_columns": null,
            "grid_template_rows": null,
            "height": null,
            "justify_content": null,
            "justify_items": null,
            "left": null,
            "margin": null,
            "max_height": null,
            "max_width": null,
            "min_height": null,
            "min_width": null,
            "object_fit": null,
            "object_position": null,
            "order": null,
            "overflow": null,
            "overflow_x": null,
            "overflow_y": null,
            "padding": null,
            "right": null,
            "top": null,
            "visibility": null,
            "width": "90%"
          }
        },
        "0c29b5ee8a654377867c2ceec09acf35": {
          "model_module": "@jupyter-widgets/controls",
          "model_name": "SliderStyleModel",
          "model_module_version": "1.5.0",
          "state": {
            "_model_module": "@jupyter-widgets/controls",
            "_model_module_version": "1.5.0",
            "_model_name": "SliderStyleModel",
            "_view_count": null,
            "_view_module": "@jupyter-widgets/base",
            "_view_module_version": "1.2.0",
            "_view_name": "StyleView",
            "description_width": "initial",
            "handle_color": null
          }
        },
        "2bc41fd3688640a481e9f5dcbac20dbe": {
          "model_module": "@jupyter-widgets/controls",
          "model_name": "VBoxModel",
          "model_module_version": "1.5.0",
          "state": {
            "_dom_classes": [],
            "_model_module": "@jupyter-widgets/controls",
            "_model_module_version": "1.5.0",
            "_model_name": "VBoxModel",
            "_view_count": null,
            "_view_module": "@jupyter-widgets/controls",
            "_view_module_version": "1.5.0",
            "_view_name": "VBoxView",
            "box_style": "",
            "children": [
              "IPY_MODEL_3bf994de854949b4a5684117b9f65f0b",
              "IPY_MODEL_9b33dbefe075475e95282b3506447dbb",
              "IPY_MODEL_c266735d4e0b4df69bea62d9362a2402",
              "IPY_MODEL_b7c9cc27938649358f56897dd838a81a",
              "IPY_MODEL_7a8f18b2798049cabc762a3ee844bd25",
              "IPY_MODEL_e3c00e573eb84bc198ac8993671f1d47",
              "IPY_MODEL_8a92736b15bc4ed8bc989d7fe50ff5cb"
            ],
            "layout": "IPY_MODEL_a90af33b7c4a448d84afac8f51356ec1"
          }
        },
        "3bf994de854949b4a5684117b9f65f0b": {
          "model_module": "@jupyter-widgets/controls",
          "model_name": "FloatSliderModel",
          "model_module_version": "1.5.0",
          "state": {
            "_dom_classes": [],
            "_model_module": "@jupyter-widgets/controls",
            "_model_module_version": "1.5.0",
            "_model_name": "FloatSliderModel",
            "_view_count": null,
            "_view_module": "@jupyter-widgets/controls",
            "_view_module_version": "1.5.0",
            "_view_name": "FloatSliderView",
            "continuous_update": true,
            "description": "CHP Oy Oranı (%)",
            "description_tooltip": null,
            "disabled": false,
            "layout": "IPY_MODEL_d35a6883e14f4ac6908feab497b848e2",
            "max": 100,
            "min": 0,
            "orientation": "horizontal",
            "readout": true,
            "readout_format": ".2f",
            "step": 0.1,
            "style": "IPY_MODEL_721d9fdb65454dacab7df0de2e8b03df",
            "value": 35
          }
        },
        "9b33dbefe075475e95282b3506447dbb": {
          "model_module": "@jupyter-widgets/controls",
          "model_name": "FloatSliderModel",
          "model_module_version": "1.5.0",
          "state": {
            "_dom_classes": [],
            "_model_module": "@jupyter-widgets/controls",
            "_model_module_version": "1.5.0",
            "_model_name": "FloatSliderModel",
            "_view_count": null,
            "_view_module": "@jupyter-widgets/controls",
            "_view_module_version": "1.5.0",
            "_view_name": "FloatSliderView",
            "continuous_update": true,
            "description": "AKP Oy Oranı (%)",
            "description_tooltip": null,
            "disabled": false,
            "layout": "IPY_MODEL_1ea9967e890a4930995001e0ea751c6d",
            "max": 100,
            "min": 0,
            "orientation": "horizontal",
            "readout": true,
            "readout_format": ".2f",
            "step": 0.1,
            "style": "IPY_MODEL_ce42207e76424ba2a00ebdd68120b942",
            "value": 30
          }
        },
        "c266735d4e0b4df69bea62d9362a2402": {
          "model_module": "@jupyter-widgets/controls",
          "model_name": "FloatSliderModel",
          "model_module_version": "1.5.0",
          "state": {
            "_dom_classes": [],
            "_model_module": "@jupyter-widgets/controls",
            "_model_module_version": "1.5.0",
            "_model_name": "FloatSliderModel",
            "_view_count": null,
            "_view_module": "@jupyter-widgets/controls",
            "_view_module_version": "1.5.0",
            "_view_name": "FloatSliderView",
            "continuous_update": true,
            "description": "HDP Oy Oranı (%)",
            "description_tooltip": null,
            "disabled": false,
            "layout": "IPY_MODEL_551cbb96145c456186b8463bb21fd099",
            "max": 100,
            "min": 0,
            "orientation": "horizontal",
            "readout": true,
            "readout_format": ".2f",
            "step": 0.1,
            "style": "IPY_MODEL_9cce84850d574618a39cc96cf3ffecaf",
            "value": 10
          }
        },
        "b7c9cc27938649358f56897dd838a81a": {
          "model_module": "@jupyter-widgets/controls",
          "model_name": "FloatSliderModel",
          "model_module_version": "1.5.0",
          "state": {
            "_dom_classes": [],
            "_model_module": "@jupyter-widgets/controls",
            "_model_module_version": "1.5.0",
            "_model_name": "FloatSliderModel",
            "_view_count": null,
            "_view_module": "@jupyter-widgets/controls",
            "_view_module_version": "1.5.0",
            "_view_name": "FloatSliderView",
            "continuous_update": true,
            "description": "İYİP Oy Oranı (%)",
            "description_tooltip": null,
            "disabled": false,
            "layout": "IPY_MODEL_1af2035e067d4ebc96f08c118dc96066",
            "max": 100,
            "min": 0,
            "orientation": "horizontal",
            "readout": true,
            "readout_format": ".2f",
            "step": 0.1,
            "style": "IPY_MODEL_17be336ff78a4153841cf7a1b018a13e",
            "value": 8
          }
        },
        "7a8f18b2798049cabc762a3ee844bd25": {
          "model_module": "@jupyter-widgets/controls",
          "model_name": "FloatSliderModel",
          "model_module_version": "1.5.0",
          "state": {
            "_dom_classes": [],
            "_model_module": "@jupyter-widgets/controls",
            "_model_module_version": "1.5.0",
            "_model_name": "FloatSliderModel",
            "_view_count": null,
            "_view_module": "@jupyter-widgets/controls",
            "_view_module_version": "1.5.0",
            "_view_name": "FloatSliderView",
            "continuous_update": true,
            "description": "MHP Oy Oranı (%)",
            "description_tooltip": null,
            "disabled": false,
            "layout": "IPY_MODEL_d3576afeb3864e8fadd0db99d4ca3aa7",
            "max": 100,
            "min": 0,
            "orientation": "horizontal",
            "readout": true,
            "readout_format": ".2f",
            "step": 0.1,
            "style": "IPY_MODEL_d380658b2b304fc69d875fa637a296b8",
            "value": 7
          }
        },
        "e3c00e573eb84bc198ac8993671f1d47": {
          "model_module": "@jupyter-widgets/controls",
          "model_name": "FloatSliderModel",
          "model_module_version": "1.5.0",
          "state": {
            "_dom_classes": [],
            "_model_module": "@jupyter-widgets/controls",
            "_model_module_version": "1.5.0",
            "_model_name": "FloatSliderModel",
            "_view_count": null,
            "_view_module": "@jupyter-widgets/controls",
            "_view_module_version": "1.5.0",
            "_view_name": "FloatSliderView",
            "continuous_update": true,
            "description": "TİP Oy Oranı (%)",
            "description_tooltip": null,
            "disabled": false,
            "layout": "IPY_MODEL_80d7356d22a24541b6e79ec5f4a0f21c",
            "max": 100,
            "min": 0,
            "orientation": "horizontal",
            "readout": true,
            "readout_format": ".2f",
            "step": 0.1,
            "style": "IPY_MODEL_713aed3e48e3494d9de93e330d0baf00",
            "value": 5
          }
        },
        "8a92736b15bc4ed8bc989d7fe50ff5cb": {
          "model_module": "@jupyter-widgets/controls",
          "model_name": "FloatSliderModel",
          "model_module_version": "1.5.0",
          "state": {
            "_dom_classes": [],
            "_model_module": "@jupyter-widgets/controls",
            "_model_module_version": "1.5.0",
            "_model_name": "FloatSliderModel",
            "_view_count": null,
            "_view_module": "@jupyter-widgets/controls",
            "_view_module_version": "1.5.0",
            "_view_name": "FloatSliderView",
            "continuous_update": true,
            "description": "DİĞER Oy Oranı (%)",
            "description_tooltip": null,
            "disabled": false,
            "layout": "IPY_MODEL_4d03f412ef2a47939e567ba01df71714",
            "max": 100,
            "min": 0,
            "orientation": "horizontal",
            "readout": true,
            "readout_format": ".2f",
            "step": 0.1,
            "style": "IPY_MODEL_f4b2d9e648774536ad26332d00d88138",
            "value": 5
          }
        },
        "a90af33b7c4a448d84afac8f51356ec1": {
          "model_module": "@jupyter-widgets/base",
          "model_name": "LayoutModel",
          "model_module_version": "1.2.0",
          "state": {
            "_model_module": "@jupyter-widgets/base",
            "_model_module_version": "1.2.0",
            "_model_name": "LayoutModel",
            "_view_count": null,
            "_view_module": "@jupyter-widgets/base",
            "_view_module_version": "1.2.0",
            "_view_name": "LayoutView",
            "align_content": null,
            "align_items": null,
            "align_self": null,
            "border": null,
            "bottom": null,
            "display": null,
            "flex": null,
            "flex_flow": null,
            "grid_area": null,
            "grid_auto_columns": null,
            "grid_auto_flow": null,
            "grid_auto_rows": null,
            "grid_column": null,
            "grid_gap": null,
            "grid_row": null,
            "grid_template_areas": null,
            "grid_template_columns": null,
            "grid_template_rows": null,
            "height": null,
            "justify_content": null,
            "justify_items": null,
            "left": null,
            "margin": null,
            "max_height": null,
            "max_width": null,
            "min_height": null,
            "min_width": null,
            "object_fit": null,
            "object_position": null,
            "order": null,
            "overflow": null,
            "overflow_x": null,
            "overflow_y": null,
            "padding": null,
            "right": null,
            "top": null,
            "visibility": null,
            "width": null
          }
        },
        "d35a6883e14f4ac6908feab497b848e2": {
          "model_module": "@jupyter-widgets/base",
          "model_name": "LayoutModel",
          "model_module_version": "1.2.0",
          "state": {
            "_model_module": "@jupyter-widgets/base",
            "_model_module_version": "1.2.0",
            "_model_name": "LayoutModel",
            "_view_count": null,
            "_view_module": "@jupyter-widgets/base",
            "_view_module_version": "1.2.0",
            "_view_name": "LayoutView",
            "align_content": null,
            "align_items": null,
            "align_self": null,
            "border": null,
            "bottom": null,
            "display": null,
            "flex": null,
            "flex_flow": null,
            "grid_area": null,
            "grid_auto_columns": null,
            "grid_auto_flow": null,
            "grid_auto_rows": null,
            "grid_column": null,
            "grid_gap": null,
            "grid_row": null,
            "grid_template_areas": null,
            "grid_template_columns": null,
            "grid_template_rows": null,
            "height": null,
            "justify_content": null,
            "justify_items": null,
            "left": null,
            "margin": null,
            "max_height": null,
            "max_width": null,
            "min_height": null,
            "min_width": null,
            "object_fit": null,
            "object_position": null,
            "order": null,
            "overflow": null,
            "overflow_x": null,
            "overflow_y": null,
            "padding": null,
            "right": null,
            "top": null,
            "visibility": null,
            "width": "90%"
          }
        },
        "721d9fdb65454dacab7df0de2e8b03df": {
          "model_module": "@jupyter-widgets/controls",
          "model_name": "SliderStyleModel",
          "model_module_version": "1.5.0",
          "state": {
            "_model_module": "@jupyter-widgets/controls",
            "_model_module_version": "1.5.0",
            "_model_name": "SliderStyleModel",
            "_view_count": null,
            "_view_module": "@jupyter-widgets/base",
            "_view_module_version": "1.2.0",
            "_view_name": "StyleView",
            "description_width": "initial",
            "handle_color": null
          }
        },
        "1ea9967e890a4930995001e0ea751c6d": {
          "model_module": "@jupyter-widgets/base",
          "model_name": "LayoutModel",
          "model_module_version": "1.2.0",
          "state": {
            "_model_module": "@jupyter-widgets/base",
            "_model_module_version": "1.2.0",
            "_model_name": "LayoutModel",
            "_view_count": null,
            "_view_module": "@jupyter-widgets/base",
            "_view_module_version": "1.2.0",
            "_view_name": "LayoutView",
            "align_content": null,
            "align_items": null,
            "align_self": null,
            "border": null,
            "bottom": null,
            "display": null,
            "flex": null,
            "flex_flow": null,
            "grid_area": null,
            "grid_auto_columns": null,
            "grid_auto_flow": null,
            "grid_auto_rows": null,
            "grid_column": null,
            "grid_gap": null,
            "grid_row": null,
            "grid_template_areas": null,
            "grid_template_columns": null,
            "grid_template_rows": null,
            "height": null,
            "justify_content": null,
            "justify_items": null,
            "left": null,
            "margin": null,
            "max_height": null,
            "max_width": null,
            "min_height": null,
            "min_width": null,
            "object_fit": null,
            "object_position": null,
            "order": null,
            "overflow": null,
            "overflow_x": null,
            "overflow_y": null,
            "padding": null,
            "right": null,
            "top": null,
            "visibility": null,
            "width": "90%"
          }
        },
        "ce42207e76424ba2a00ebdd68120b942": {
          "model_module": "@jupyter-widgets/controls",
          "model_name": "SliderStyleModel",
          "model_module_version": "1.5.0",
          "state": {
            "_model_module": "@jupyter-widgets/controls",
            "_model_module_version": "1.5.0",
            "_model_name": "SliderStyleModel",
            "_view_count": null,
            "_view_module": "@jupyter-widgets/base",
            "_view_module_version": "1.2.0",
            "_view_name": "StyleView",
            "description_width": "initial",
            "handle_color": null
          }
        },
        "551cbb96145c456186b8463bb21fd099": {
          "model_module": "@jupyter-widgets/base",
          "model_name": "LayoutModel",
          "model_module_version": "1.2.0",
          "state": {
            "_model_module": "@jupyter-widgets/base",
            "_model_module_version": "1.2.0",
            "_model_name": "LayoutModel",
            "_view_count": null,
            "_view_module": "@jupyter-widgets/base",
            "_view_module_version": "1.2.0",
            "_view_name": "LayoutView",
            "align_content": null,
            "align_items": null,
            "align_self": null,
            "border": null,
            "bottom": null,
            "display": null,
            "flex": null,
            "flex_flow": null,
            "grid_area": null,
            "grid_auto_columns": null,
            "grid_auto_flow": null,
            "grid_auto_rows": null,
            "grid_column": null,
            "grid_gap": null,
            "grid_row": null,
            "grid_template_areas": null,
            "grid_template_columns": null,
            "grid_template_rows": null,
            "height": null,
            "justify_content": null,
            "justify_items": null,
            "left": null,
            "margin": null,
            "max_height": null,
            "max_width": null,
            "min_height": null,
            "min_width": null,
            "object_fit": null,
            "object_position": null,
            "order": null,
            "overflow": null,
            "overflow_x": null,
            "overflow_y": null,
            "padding": null,
            "right": null,
            "top": null,
            "visibility": null,
            "width": "90%"
          }
        },
        "9cce84850d574618a39cc96cf3ffecaf": {
          "model_module": "@jupyter-widgets/controls",
          "model_name": "SliderStyleModel",
          "model_module_version": "1.5.0",
          "state": {
            "_model_module": "@jupyter-widgets/controls",
            "_model_module_version": "1.5.0",
            "_model_name": "SliderStyleModel",
            "_view_count": null,
            "_view_module": "@jupyter-widgets/base",
            "_view_module_version": "1.2.0",
            "_view_name": "StyleView",
            "description_width": "initial",
            "handle_color": null
          }
        },
        "1af2035e067d4ebc96f08c118dc96066": {
          "model_module": "@jupyter-widgets/base",
          "model_name": "LayoutModel",
          "model_module_version": "1.2.0",
          "state": {
            "_model_module": "@jupyter-widgets/base",
            "_model_module_version": "1.2.0",
            "_model_name": "LayoutModel",
            "_view_count": null,
            "_view_module": "@jupyter-widgets/base",
            "_view_module_version": "1.2.0",
            "_view_name": "LayoutView",
            "align_content": null,
            "align_items": null,
            "align_self": null,
            "border": null,
            "bottom": null,
            "display": null,
            "flex": null,
            "flex_flow": null,
            "grid_area": null,
            "grid_auto_columns": null,
            "grid_auto_flow": null,
            "grid_auto_rows": null,
            "grid_column": null,
            "grid_gap": null,
            "grid_row": null,
            "grid_template_areas": null,
            "grid_template_columns": null,
            "grid_template_rows": null,
            "height": null,
            "justify_content": null,
            "justify_items": null,
            "left": null,
            "margin": null,
            "max_height": null,
            "max_width": null,
            "min_height": null,
            "min_width": null,
            "object_fit": null,
            "object_position": null,
            "order": null,
            "overflow": null,
            "overflow_x": null,
            "overflow_y": null,
            "padding": null,
            "right": null,
            "top": null,
            "visibility": null,
            "width": "90%"
          }
        },
        "17be336ff78a4153841cf7a1b018a13e": {
          "model_module": "@jupyter-widgets/controls",
          "model_name": "SliderStyleModel",
          "model_module_version": "1.5.0",
          "state": {
            "_model_module": "@jupyter-widgets/controls",
            "_model_module_version": "1.5.0",
            "_model_name": "SliderStyleModel",
            "_view_count": null,
            "_view_module": "@jupyter-widgets/base",
            "_view_module_version": "1.2.0",
            "_view_name": "StyleView",
            "description_width": "initial",
            "handle_color": null
          }
        },
        "d3576afeb3864e8fadd0db99d4ca3aa7": {
          "model_module": "@jupyter-widgets/base",
          "model_name": "LayoutModel",
          "model_module_version": "1.2.0",
          "state": {
            "_model_module": "@jupyter-widgets/base",
            "_model_module_version": "1.2.0",
            "_model_name": "LayoutModel",
            "_view_count": null,
            "_view_module": "@jupyter-widgets/base",
            "_view_module_version": "1.2.0",
            "_view_name": "LayoutView",
            "align_content": null,
            "align_items": null,
            "align_self": null,
            "border": null,
            "bottom": null,
            "display": null,
            "flex": null,
            "flex_flow": null,
            "grid_area": null,
            "grid_auto_columns": null,
            "grid_auto_flow": null,
            "grid_auto_rows": null,
            "grid_column": null,
            "grid_gap": null,
            "grid_row": null,
            "grid_template_areas": null,
            "grid_template_columns": null,
            "grid_template_rows": null,
            "height": null,
            "justify_content": null,
            "justify_items": null,
            "left": null,
            "margin": null,
            "max_height": null,
            "max_width": null,
            "min_height": null,
            "min_width": null,
            "object_fit": null,
            "object_position": null,
            "order": null,
            "overflow": null,
            "overflow_x": null,
            "overflow_y": null,
            "padding": null,
            "right": null,
            "top": null,
            "visibility": null,
            "width": "90%"
          }
        },
        "d380658b2b304fc69d875fa637a296b8": {
          "model_module": "@jupyter-widgets/controls",
          "model_name": "SliderStyleModel",
          "model_module_version": "1.5.0",
          "state": {
            "_model_module": "@jupyter-widgets/controls",
            "_model_module_version": "1.5.0",
            "_model_name": "SliderStyleModel",
            "_view_count": null,
            "_view_module": "@jupyter-widgets/base",
            "_view_module_version": "1.2.0",
            "_view_name": "StyleView",
            "description_width": "initial",
            "handle_color": null
          }
        },
        "80d7356d22a24541b6e79ec5f4a0f21c": {
          "model_module": "@jupyter-widgets/base",
          "model_name": "LayoutModel",
          "model_module_version": "1.2.0",
          "state": {
            "_model_module": "@jupyter-widgets/base",
            "_model_module_version": "1.2.0",
            "_model_name": "LayoutModel",
            "_view_count": null,
            "_view_module": "@jupyter-widgets/base",
            "_view_module_version": "1.2.0",
            "_view_name": "LayoutView",
            "align_content": null,
            "align_items": null,
            "align_self": null,
            "border": null,
            "bottom": null,
            "display": null,
            "flex": null,
            "flex_flow": null,
            "grid_area": null,
            "grid_auto_columns": null,
            "grid_auto_flow": null,
            "grid_auto_rows": null,
            "grid_column": null,
            "grid_gap": null,
            "grid_row": null,
            "grid_template_areas": null,
            "grid_template_columns": null,
            "grid_template_rows": null,
            "height": null,
            "justify_content": null,
            "justify_items": null,
            "left": null,
            "margin": null,
            "max_height": null,
            "max_width": null,
            "min_height": null,
            "min_width": null,
            "object_fit": null,
            "object_position": null,
            "order": null,
            "overflow": null,
            "overflow_x": null,
            "overflow_y": null,
            "padding": null,
            "right": null,
            "top": null,
            "visibility": null,
            "width": "90%"
          }
        },
        "713aed3e48e3494d9de93e330d0baf00": {
          "model_module": "@jupyter-widgets/controls",
          "model_name": "SliderStyleModel",
          "model_module_version": "1.5.0",
          "state": {
            "_model_module": "@jupyter-widgets/controls",
            "_model_module_version": "1.5.0",
            "_model_name": "SliderStyleModel",
            "_view_count": null,
            "_view_module": "@jupyter-widgets/base",
            "_view_module_version": "1.2.0",
            "_view_name": "StyleView",
            "description_width": "initial",
            "handle_color": null
          }
        },
        "4d03f412ef2a47939e567ba01df71714": {
          "model_module": "@jupyter-widgets/base",
          "model_name": "LayoutModel",
          "model_module_version": "1.2.0",
          "state": {
            "_model_module": "@jupyter-widgets/base",
            "_model_module_version": "1.2.0",
            "_model_name": "LayoutModel",
            "_view_count": null,
            "_view_module": "@jupyter-widgets/base",
            "_view_module_version": "1.2.0",
            "_view_name": "LayoutView",
            "align_content": null,
            "align_items": null,
            "align_self": null,
            "border": null,
            "bottom": null,
            "display": null,
            "flex": null,
            "flex_flow": null,
            "grid_area": null,
            "grid_auto_columns": null,
            "grid_auto_flow": null,
            "grid_auto_rows": null,
            "grid_column": null,
            "grid_gap": null,
            "grid_row": null,
            "grid_template_areas": null,
            "grid_template_columns": null,
            "grid_template_rows": null,
            "height": null,
            "justify_content": null,
            "justify_items": null,
            "left": null,
            "margin": null,
            "max_height": null,
            "max_width": null,
            "min_height": null,
            "min_width": null,
            "object_fit": null,
            "object_position": null,
            "order": null,
            "overflow": null,
            "overflow_x": null,
            "overflow_y": null,
            "padding": null,
            "right": null,
            "top": null,
            "visibility": null,
            "width": "90%"
          }
        },
        "f4b2d9e648774536ad26332d00d88138": {
          "model_module": "@jupyter-widgets/controls",
          "model_name": "SliderStyleModel",
          "model_module_version": "1.5.0",
          "state": {
            "_model_module": "@jupyter-widgets/controls",
            "_model_module_version": "1.5.0",
            "_model_name": "SliderStyleModel",
            "_view_count": null,
            "_view_module": "@jupyter-widgets/base",
            "_view_module_version": "1.2.0",
            "_view_name": "StyleView",
            "description_width": "initial",
            "handle_color": null
          }
        },
        "30ed43334722436aa6bd3a2e33ac372a": {
          "model_module": "@jupyter-widgets/controls",
          "model_name": "VBoxModel",
          "model_module_version": "1.5.0",
          "state": {
            "_dom_classes": [],
            "_model_module": "@jupyter-widgets/controls",
            "_model_module_version": "1.5.0",
            "_model_name": "VBoxModel",
            "_view_count": null,
            "_view_module": "@jupyter-widgets/controls",
            "_view_module_version": "1.5.0",
            "_view_name": "VBoxView",
            "box_style": "",
            "children": [
              "IPY_MODEL_bb8b244727684fd4a6bbcb9e8982130d",
              "IPY_MODEL_7fe98fc092a74fd290e93d9cf63236ec",
              "IPY_MODEL_3bf994de854949b4a5684117b9f65f0b",
              "IPY_MODEL_9b33dbefe075475e95282b3506447dbb",
              "IPY_MODEL_c266735d4e0b4df69bea62d9362a2402",
              "IPY_MODEL_b7c9cc27938649358f56897dd838a81a",
              "IPY_MODEL_7a8f18b2798049cabc762a3ee844bd25",
              "IPY_MODEL_e3c00e573eb84bc198ac8993671f1d47",
              "IPY_MODEL_8a92736b15bc4ed8bc989d7fe50ff5cb",
              "IPY_MODEL_63cb4d080c8447b286a9e08ff00224c6",
              "IPY_MODEL_42f0f601ccee4540b3c928269517fab2"
            ],
            "layout": "IPY_MODEL_6025ec4c014448248f145e6451506639"
          }
        },
        "63cb4d080c8447b286a9e08ff00224c6": {
          "model_module": "@jupyter-widgets/controls",
          "model_name": "ButtonModel",
          "model_module_version": "1.5.0",
          "state": {
            "_dom_classes": [],
            "_model_module": "@jupyter-widgets/controls",
            "_model_module_version": "1.5.0",
            "_model_name": "ButtonModel",
            "_view_count": null,
            "_view_module": "@jupyter-widgets/controls",
            "_view_module_version": "1.5.0",
            "_view_name": "ButtonView",
            "button_style": "",
            "description": "Dağılım Hesapla",
            "disabled": false,
            "icon": "",
            "layout": "IPY_MODEL_2e9decd171344b66bf04caa21d02f916",
            "style": "IPY_MODEL_9af122c52a5142d586d67d4ff31a89fe",
            "tooltip": ""
          }
        },
        "42f0f601ccee4540b3c928269517fab2": {
          "model_module": "@jupyter-widgets/output",
          "model_name": "OutputModel",
          "model_module_version": "1.0.0",
          "state": {
            "_dom_classes": [],
            "_model_module": "@jupyter-widgets/output",
            "_model_module_version": "1.0.0",
            "_model_name": "OutputModel",
            "_view_count": null,
            "_view_module": "@jupyter-widgets/output",
            "_view_module_version": "1.0.0",
            "_view_name": "OutputView",
            "layout": "IPY_MODEL_2d66ee20b43241719ea198d8c2cc1751",
            "msg_id": "",
            "outputs": []
          }
        },
        "6025ec4c014448248f145e6451506639": {
          "model_module": "@jupyter-widgets/base",
          "model_name": "LayoutModel",
          "model_module_version": "1.2.0",
          "state": {
            "_model_module": "@jupyter-widgets/base",
            "_model_module_version": "1.2.0",
            "_model_name": "LayoutModel",
            "_view_count": null,
            "_view_module": "@jupyter-widgets/base",
            "_view_module_version": "1.2.0",
            "_view_name": "LayoutView",
            "align_content": null,
            "align_items": null,
            "align_self": null,
            "border": null,
            "bottom": null,
            "display": null,
            "flex": null,
            "flex_flow": null,
            "grid_area": null,
            "grid_auto_columns": null,
            "grid_auto_flow": null,
            "grid_auto_rows": null,
            "grid_column": null,
            "grid_gap": null,
            "grid_row": null,
            "grid_template_areas": null,
            "grid_template_columns": null,
            "grid_template_rows": null,
            "height": null,
            "justify_content": null,
            "justify_items": null,
            "left": null,
            "margin": null,
            "max_height": null,
            "max_width": null,
            "min_height": null,
            "min_width": null,
            "object_fit": null,
            "object_position": null,
            "order": null,
            "overflow": null,
            "overflow_x": null,
            "overflow_y": null,
            "padding": null,
            "right": null,
            "top": null,
            "visibility": null,
            "width": null
          }
        },
        "2e9decd171344b66bf04caa21d02f916": {
          "model_module": "@jupyter-widgets/base",
          "model_name": "LayoutModel",
          "model_module_version": "1.2.0",
          "state": {
            "_model_module": "@jupyter-widgets/base",
            "_model_module_version": "1.2.0",
            "_model_name": "LayoutModel",
            "_view_count": null,
            "_view_module": "@jupyter-widgets/base",
            "_view_module_version": "1.2.0",
            "_view_name": "LayoutView",
            "align_content": null,
            "align_items": null,
            "align_self": null,
            "border": null,
            "bottom": null,
            "display": null,
            "flex": null,
            "flex_flow": null,
            "grid_area": null,
            "grid_auto_columns": null,
            "grid_auto_flow": null,
            "grid_auto_rows": null,
            "grid_column": null,
            "grid_gap": null,
            "grid_row": null,
            "grid_template_areas": null,
            "grid_template_columns": null,
            "grid_template_rows": null,
            "height": null,
            "justify_content": null,
            "justify_items": null,
            "left": null,
            "margin": null,
            "max_height": null,
            "max_width": null,
            "min_height": null,
            "min_width": null,
            "object_fit": null,
            "object_position": null,
            "order": null,
            "overflow": null,
            "overflow_x": null,
            "overflow_y": null,
            "padding": null,
            "right": null,
            "top": null,
            "visibility": null,
            "width": "90%"
          }
        },
        "9af122c52a5142d586d67d4ff31a89fe": {
          "model_module": "@jupyter-widgets/controls",
          "model_name": "ButtonStyleModel",
          "model_module_version": "1.5.0",
          "state": {
            "_model_module": "@jupyter-widgets/controls",
            "_model_module_version": "1.5.0",
            "_model_name": "ButtonStyleModel",
            "_view_count": null,
            "_view_module": "@jupyter-widgets/base",
            "_view_module_version": "1.2.0",
            "_view_name": "StyleView",
            "button_color": null,
            "font_weight": ""
          }
        },
        "2d66ee20b43241719ea198d8c2cc1751": {
          "model_module": "@jupyter-widgets/base",
          "model_name": "LayoutModel",
          "model_module_version": "1.2.0",
          "state": {
            "_model_module": "@jupyter-widgets/base",
            "_model_module_version": "1.2.0",
            "_model_name": "LayoutModel",
            "_view_count": null,
            "_view_module": "@jupyter-widgets/base",
            "_view_module_version": "1.2.0",
            "_view_name": "LayoutView",
            "align_content": null,
            "align_items": null,
            "align_self": null,
            "border": null,
            "bottom": null,
            "display": null,
            "flex": null,
            "flex_flow": null,
            "grid_area": null,
            "grid_auto_columns": null,
            "grid_auto_flow": null,
            "grid_auto_rows": null,
            "grid_column": null,
            "grid_gap": null,
            "grid_row": null,
            "grid_template_areas": null,
            "grid_template_columns": null,
            "grid_template_rows": null,
            "height": null,
            "justify_content": null,
            "justify_items": null,
            "left": null,
            "margin": null,
            "max_height": null,
            "max_width": null,
            "min_height": null,
            "min_width": null,
            "object_fit": null,
            "object_position": null,
            "order": null,
            "overflow": null,
            "overflow_x": null,
            "overflow_y": null,
            "padding": null,
            "right": null,
            "top": null,
            "visibility": null,
            "width": null
          }
        },
        "e9056874cb4743f3aac1db361350fb86": {
          "model_module": "@jupyter-widgets/controls",
          "model_name": "VBoxModel",
          "model_module_version": "1.5.0",
          "state": {
            "_dom_classes": [],
            "_model_module": "@jupyter-widgets/controls",
            "_model_module_version": "1.5.0",
            "_model_name": "VBoxModel",
            "_view_count": null,
            "_view_module": "@jupyter-widgets/controls",
            "_view_module_version": "1.5.0",
            "_view_name": "VBoxView",
            "box_style": "",
            "children": [
              "IPY_MODEL_bb8b244727684fd4a6bbcb9e8982130d",
              "IPY_MODEL_7fe98fc092a74fd290e93d9cf63236ec",
              "IPY_MODEL_3bf994de854949b4a5684117b9f65f0b",
              "IPY_MODEL_9b33dbefe075475e95282b3506447dbb",
              "IPY_MODEL_c266735d4e0b4df69bea62d9362a2402",
              "IPY_MODEL_b7c9cc27938649358f56897dd838a81a",
              "IPY_MODEL_7a8f18b2798049cabc762a3ee844bd25",
              "IPY_MODEL_e3c00e573eb84bc198ac8993671f1d47",
              "IPY_MODEL_8a92736b15bc4ed8bc989d7fe50ff5cb",
              "IPY_MODEL_19794c0e89a24e689dc957f03582c5e7",
              "IPY_MODEL_a84d411314e145c98136c8ab9530ec6c"
            ],
            "layout": "IPY_MODEL_b545710e9da44cd3889a7fdbbbb842f6"
          }
        },
        "19794c0e89a24e689dc957f03582c5e7": {
          "model_module": "@jupyter-widgets/controls",
          "model_name": "ButtonModel",
          "model_module_version": "1.5.0",
          "state": {
            "_dom_classes": [],
            "_model_module": "@jupyter-widgets/controls",
            "_model_module_version": "1.5.0",
            "_model_name": "ButtonModel",
            "_view_count": null,
            "_view_module": "@jupyter-widgets/controls",
            "_view_module_version": "1.5.0",
            "_view_name": "ButtonView",
            "button_style": "",
            "description": "Dağılım Hesapla",
            "disabled": false,
            "icon": "",
            "layout": "IPY_MODEL_c32dbb2023964cbdaa1ad7eeeab301a0",
            "style": "IPY_MODEL_69fed2503919473c982fbffd6ea7e610",
            "tooltip": ""
          }
        },
        "a84d411314e145c98136c8ab9530ec6c": {
          "model_module": "@jupyter-widgets/output",
          "model_name": "OutputModel",
          "model_module_version": "1.0.0",
          "state": {
            "_dom_classes": [],
            "_model_module": "@jupyter-widgets/output",
            "_model_module_version": "1.0.0",
            "_model_name": "OutputModel",
            "_view_count": null,
            "_view_module": "@jupyter-widgets/output",
            "_view_module_version": "1.0.0",
            "_view_name": "OutputView",
            "layout": "IPY_MODEL_6d7fe5b7d4454cab8a9674491e313b61",
            "msg_id": "",
            "outputs": [
              {
                "output_type": "stream",
                "name": "stdout",
                "text": [
                  "CHP milletvekili sayısı: 13\n",
                  "AKP milletvekili sayısı: 12\n",
                  "HDP milletvekili sayısı: 3\n",
                  "İYİP milletvekili sayısı: 3\n",
                  "MHP milletvekili sayısı: 2\n",
                  "TİP milletvekili sayısı: 1\n",
                  "DİĞER milletvekili sayısı: 1\n"
                ]
              }
            ]
          }
        },
        "b545710e9da44cd3889a7fdbbbb842f6": {
          "model_module": "@jupyter-widgets/base",
          "model_name": "LayoutModel",
          "model_module_version": "1.2.0",
          "state": {
            "_model_module": "@jupyter-widgets/base",
            "_model_module_version": "1.2.0",
            "_model_name": "LayoutModel",
            "_view_count": null,
            "_view_module": "@jupyter-widgets/base",
            "_view_module_version": "1.2.0",
            "_view_name": "LayoutView",
            "align_content": null,
            "align_items": null,
            "align_self": null,
            "border": null,
            "bottom": null,
            "display": null,
            "flex": null,
            "flex_flow": null,
            "grid_area": null,
            "grid_auto_columns": null,
            "grid_auto_flow": null,
            "grid_auto_rows": null,
            "grid_column": null,
            "grid_gap": null,
            "grid_row": null,
            "grid_template_areas": null,
            "grid_template_columns": null,
            "grid_template_rows": null,
            "height": null,
            "justify_content": null,
            "justify_items": null,
            "left": null,
            "margin": null,
            "max_height": null,
            "max_width": null,
            "min_height": null,
            "min_width": null,
            "object_fit": null,
            "object_position": null,
            "order": null,
            "overflow": null,
            "overflow_x": null,
            "overflow_y": null,
            "padding": null,
            "right": null,
            "top": null,
            "visibility": null,
            "width": null
          }
        },
        "c32dbb2023964cbdaa1ad7eeeab301a0": {
          "model_module": "@jupyter-widgets/base",
          "model_name": "LayoutModel",
          "model_module_version": "1.2.0",
          "state": {
            "_model_module": "@jupyter-widgets/base",
            "_model_module_version": "1.2.0",
            "_model_name": "LayoutModel",
            "_view_count": null,
            "_view_module": "@jupyter-widgets/base",
            "_view_module_version": "1.2.0",
            "_view_name": "LayoutView",
            "align_content": null,
            "align_items": null,
            "align_self": null,
            "border": null,
            "bottom": null,
            "display": null,
            "flex": null,
            "flex_flow": null,
            "grid_area": null,
            "grid_auto_columns": null,
            "grid_auto_flow": null,
            "grid_auto_rows": null,
            "grid_column": null,
            "grid_gap": null,
            "grid_row": null,
            "grid_template_areas": null,
            "grid_template_columns": null,
            "grid_template_rows": null,
            "height": null,
            "justify_content": null,
            "justify_items": null,
            "left": null,
            "margin": null,
            "max_height": null,
            "max_width": null,
            "min_height": null,
            "min_width": null,
            "object_fit": null,
            "object_position": null,
            "order": null,
            "overflow": null,
            "overflow_x": null,
            "overflow_y": null,
            "padding": null,
            "right": null,
            "top": null,
            "visibility": null,
            "width": "90%"
          }
        },
        "69fed2503919473c982fbffd6ea7e610": {
          "model_module": "@jupyter-widgets/controls",
          "model_name": "ButtonStyleModel",
          "model_module_version": "1.5.0",
          "state": {
            "_model_module": "@jupyter-widgets/controls",
            "_model_module_version": "1.5.0",
            "_model_name": "ButtonStyleModel",
            "_view_count": null,
            "_view_module": "@jupyter-widgets/base",
            "_view_module_version": "1.2.0",
            "_view_name": "StyleView",
            "button_color": null,
            "font_weight": ""
          }
        },
        "6d7fe5b7d4454cab8a9674491e313b61": {
          "model_module": "@jupyter-widgets/base",
          "model_name": "LayoutModel",
          "model_module_version": "1.2.0",
          "state": {
            "_model_module": "@jupyter-widgets/base",
            "_model_module_version": "1.2.0",
            "_model_name": "LayoutModel",
            "_view_count": null,
            "_view_module": "@jupyter-widgets/base",
            "_view_module_version": "1.2.0",
            "_view_name": "LayoutView",
            "align_content": null,
            "align_items": null,
            "align_self": null,
            "border": null,
            "bottom": null,
            "display": null,
            "flex": null,
            "flex_flow": null,
            "grid_area": null,
            "grid_auto_columns": null,
            "grid_auto_flow": null,
            "grid_auto_rows": null,
            "grid_column": null,
            "grid_gap": null,
            "grid_row": null,
            "grid_template_areas": null,
            "grid_template_columns": null,
            "grid_template_rows": null,
            "height": null,
            "justify_content": null,
            "justify_items": null,
            "left": null,
            "margin": null,
            "max_height": null,
            "max_width": null,
            "min_height": null,
            "min_width": null,
            "object_fit": null,
            "object_position": null,
            "order": null,
            "overflow": null,
            "overflow_x": null,
            "overflow_y": null,
            "padding": null,
            "right": null,
            "top": null,
            "visibility": null,
            "width": null
          }
        }
      }
    }
  },
  "nbformat": 4,
  "nbformat_minor": 0
}