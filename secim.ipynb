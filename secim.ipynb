{
 "cells": [
  {
   "attachments": {},
   "cell_type": "markdown",
   "metadata": {},
   "source": [
    "# Seçim 2023\n",
    "\n",
    "Kim kaç oy alırsa kaç milletvekili çıkaracak onu hesaplıyoruz.\n",
    "\n",
    "Dhondt sisteminde, her siyasi partinin aldığı sandalye sayısı, aldığı oy sayısının bir dizi bölene bölünmesiyle hesaplanır. Bu not defteri, Dhondt sistemini kullanarak milletvekili seçimlerinin sonuçlarını hesaplamak için adım adım bir kılavuz sağlayacaktır. Gelin adım adım hesaplayalım."
   ]
  },
  {
   "attachments": {},
   "cell_type": "markdown",
   "metadata": {},
   "source": [
    "## 1. Adım : Veri toplama\n",
    "\n",
    "Dhondt sistemindeki milletvekili seçimlerinin sonuçlarını hesaplamak için aşağıdaki verilere ihtiyacımız olacak:\n",
    "\n",
    "1. Seçimde kullanılan toplam geçerli oy sayısı\n",
    "2. Doldurulacak koltuk sayısı\n",
    "3. Seçime katılan her siyasi partinin aldığı oy sayısı\n",
    "\n",
    "Kolaylca anlayabilmek için kullanılan toplam geçerli oy sayısının 100.000 olduğunu ve doldurulacak 5 sandalye olduğunu varsayalım. 3 parti seçime katılmış ve partiler aşağıdaki oyları almış olsun.\n",
    "\n",
    "A Partisi: 50.000 oy\n",
    "B Partisi: 30.000 oy\n",
    "C Partisi: 20.000 oy"
   ]
  },
  {
   "cell_type": "code",
   "execution_count": 1,
   "metadata": {},
   "outputs": [
    {
     "name": "stdout",
     "output_type": "stream",
     "text": [
      "100\n"
     ]
    }
   ],
   "source": [
    "kullanilan_oy = 100000\n",
    "vekil_sayisi = 5\n",
    "\n",
    "oranlar = {\n",
    "    \"A\": 50,\n",
    "    \"B\": 30,\n",
    "    \"C\": 20,\n",
    "}\n",
    "\n",
    "# Tahminin toplamını kontrol edelim\n",
    "\n",
    "print(sum(oranlar.values()))\n"
   ]
  },
  {
   "attachments": {},
   "cell_type": "markdown",
   "metadata": {},
   "source": [
    "## 2. Adım: Bölenleri hesaplayalım\n",
    "\n",
    "Bölenler, her bir partinin aldığı toplam oy sayısının \n",
    "\n",
    "**1'den, doldurulacak sandalye sayısına tamsayı sırasına bölünmesiyle hesaplanır.**\n",
    "\n",
    "Örneğin, doldurulacak 5 koltuk varsa, bölenler aşağıdaki gibi hesaplanır:\n",
    "\n",
    "|   | A             | B             | C             |\n",
    "|---|---------------|---------------|---------------|\n",
    "| 1 | 50.000 / 1 = 50.000  | 30.000 / 1 = 30.000  | 20.000 / 1 = 20.000  |\n",
    "| 2 | 50.000 / 2 = 25.000  | 30.000 / 2 = 15.000  | 20.000 / 2 = 10.000  |\n",
    "| 3 | 50.000 / 3 = 16.666,67 | 30.000 / 3 = 10.000  | 20.000 / 3 = 6.666,66 |\n",
    "| 4 | 50.000 / 4 = 12.500  | 30.000 / 4 = 7.500   | 20.000 / 4 = 5.000   |\n",
    "| 5 | 50.000 / 5 = 10.000  | 30.000 / 5 = 3.750   | 20.000 / 5 = 4.000   |\n"
   ]
  },
  {
   "cell_type": "code",
   "execution_count": 2,
   "metadata": {},
   "outputs": [
    {
     "name": "stdout",
     "output_type": "stream",
     "text": [
      "[50000.0, 30000.0, 20000.0, 25000.0, 15000.0, 10000.0, 16666.666666666668, 10000.0, 6666.666666666667, 12500.0, 7500.0, 5000.0, 10000.0, 6000.0, 4000.0]\n",
      "['A', 'B', 'C', 'A', 'B', 'C', 'A', 'B', 'C', 'A', 'B', 'C', 'A', 'B', 'C']\n"
     ]
    }
   ],
   "source": [
    "bolenler = []\n",
    "partiler = []\n",
    "for vekil in range(vekil_sayisi):\n",
    "    for parti, oran in oranlar.items():\n",
    "        bolen = (kullanilan_oy * oran / 100) / (vekil + 1)\n",
    "        bolenler.append(bolen)\n",
    "        partiler.append(parti)\n",
    "\n",
    "print(bolenler)\n",
    "print(partiler)\n"
   ]
  },
  {
   "attachments": {},
   "cell_type": "markdown",
   "metadata": {},
   "source": [
    "## 3. Adım: Koltukların dağıtımı\n",
    "\n",
    "En çok oyu alan partiden başlayarak, bölenlerinin her birini aldığı toplam oy sayısına bölün. Daha sonra en yüksek bölümü veren partiye bir sandalye tahsis edilir ve böleni bir artırılır. Tüm koltuklar tahsis edilene kadar işlem tekrarlanır.\n",
    "\n",
    "Yukarıdaki örnek verileri kullanarak, koltuk tahsisi şu şekilde ilerleyecektir:\n",
    "\n",
    "1. İlk vekil ilk böleni (50.000) olan A Partisine gidiyor.\n",
    "\n",
    "|   | A             | B             | C             |\n",
    "|---|---------------|---------------|---------------|\n",
    "| 1 | <mark>**50.000 / 1 = 50.000**</mark>  | 30.000 / 1 = 30.000  | 20.000 / 1 = 20.000  |\n",
    "| 2 | 50.000 / 2 = 25.000  | 30.000 / 2 = 15.000  | 20.000 / 2 = 10.000  |\n",
    "| 3 | 50.000 / 3 = 16.666,67 | 30.000 / 3 = 10.000  | 20.000 / 3 = 6.666,66 |\n",
    "| 4 | 50.000 / 4 = 12.500  | 30.000 / 4 = 7.500   | 20.000 / 4 = 5.000   |\n",
    "| 5 | 50.000 / 5 = 10.000  | 30.000 / 5 = 3.750   | 20.000 / 5 = 4.000   |\n",
    "\n",
    "2.  vekil kalan en yüksek bölene yani 30.000'e yani B partisine gidiyor.\n",
    "\n",
    "|   | A             | B             | C             |\n",
    "|---|---------------|---------------|---------------|\n",
    "| 1 | *~~50.000 / 1 = 50.000~~* | <mark>**30.000 / 1 = 30.000**</mark>  | 20.000 / 1 = 20.000  |\n",
    "| 2 | 50.000 / 2 = 25.000  | 30.000 / 2 = 15.000  | 20.000 / 2 = 10.000  |\n",
    "| 3 | 50.000 / 3 = 16.666,67 | 30.000 / 3 = 10.000  | 20.000 / 3 = 6.666,66 |\n",
    "| 4 | 50.000 / 4 = 12.500  | 30.000 / 4 = 7.500   | 20.000 / 4 = 5.000   |\n",
    "| 5 | 50.000 / 5 = 10.000  | 30.000 / 5 = 3.750   | 20.000 / 5 = 4.000   |\n",
    "\n",
    "3.  vekil, sıradaki en yüksek bölen 25.000'e yani A partisine gidiyor.\n",
    "\n",
    "|   | A             | B             | C             |\n",
    "|---|---------------|---------------|---------------|\n",
    "| 1 | *~~50.000 / 1 = 50.000~~* | *~~30.000 / 1 = 30.000~~* | 20.000 / 1 = 20.000  |\n",
    "| 2 | <mark>**50.000 / 2 = 25.000**</mark>   | 30.000 / 2 = 15.000  | 20.000 / 2 = 10.000  |\n",
    "| 3 | 50.000 / 3 = 16.666,67 | 30.000 / 3 = 10.000  | 20.000 / 3 = 6.666,66 |\n",
    "| 4 | 50.000 / 4 = 12.500  | 30.000 / 4 = 7.500   | 20.000 / 4 = 5.000   |\n",
    "| 5 | 50.000 / 5 = 10.000  | 30.000 / 5 = 3.750   | 20.000 / 5 = 4.000   |\n",
    "\n",
    "4.  vekil, sıradaki en yüksek bölen 20.000'e yani C partisine gidiyor.\n",
    "\n",
    "|   | A             | B             | C             |\n",
    "|---|---------------|---------------|---------------|\n",
    "| 1 | *~~50.000 / 1 = 50.000~~* | *~~30.000 / 1 = 30.000~~* | <mark>**20.000 / 1 = 20.000**</mark>   |\n",
    "| 2 | *~~350.000 / 2 = 25.000~~*  | 30.000 / 2 = 15.000  | 20.000 / 2 = 10.000  |\n",
    "| 3 | 50.000 / 3 = 16.666,67 | 30.000 / 3 = 10.000  | 20.000 / 3 = 6.666,66 |\n",
    "| 4 | 50.000 / 4 = 12.500  | 30.000 / 4 = 7.500   | 20.000 / 4 = 5.000   |\n",
    "| 5 | 50.000 / 5 = 10.000  | 30.000 / 5 = 3.750   | 20.000 / 5 = 4.000   |\n",
    "\n",
    "5.  vekil, ve son vekil 16.666,67 ile A partisinde\n",
    "\n",
    "|   | A             | B             | C             |\n",
    "|---|---------------|---------------|---------------|\n",
    "| 1 | *~~50.000 / 1 = 50.000~~* | *~~30.000 / 1 = 30.000~~* | *~~20.000 / 1 = 20.000~~*   |\n",
    "| 2 | *~~350.000 / 2 = 25.000~~*  | 30.000 / 2 = 15.000  | 20.000 / 2 = 10.000  |\n",
    "| 3 | <mark>**50.000 / 3 = 16.666,67**</mark> | 30.000 / 3 = 10.000  | 20.000 / 3 = 6.666,66 |\n",
    "| 4 | 50.000 / 4 = 12.500  | 30.000 / 4 = 7.500   | 20.000 / 4 = 5.000   |\n",
    "| 5 | 50.000 / 5 = 10.000  | 30.000 / 5 = 3.750   | 20.000 / 5 = 4.000   |\n",
    "\n",
    "\n"
   ]
  },
  {
   "cell_type": "code",
   "execution_count": 3,
   "metadata": {},
   "outputs": [
    {
     "data": {
      "text/plain": [
       "[(50000.0, 'A'),\n",
       " (30000.0, 'B'),\n",
       " (25000.0, 'A'),\n",
       " (20000.0, 'C'),\n",
       " (16666.666666666668, 'A')]"
      ]
     },
     "execution_count": 3,
     "metadata": {},
     "output_type": "execute_result"
    }
   ],
   "source": [
    "bolen_sirasi = sorted(zip(bolenler, partiler), reverse=True)\n",
    "vekiller = bolen_sirasi[:vekil_sayisi]\n",
    "vekiller\n"
   ]
  },
  {
   "attachments": {},
   "cell_type": "markdown",
   "metadata": {},
   "source": [
    "## 4. Adım : Gerçek Hayat Örneği\n",
    "\n",
    "Önce 2023 seçimlerine katılacak gerçek partilerin oy oranlarını girelim. Son arayüzde değiştirebiliriz.\n",
    "\n",
    "Şimdilik İstanbul 1. bölge için hesaplama yapacağız. YSK verilerine göre bu seçim bölgesinin toplam nüfusu 5.616.577 iken, çıkaracağı milletvekili sayısı 35, bir milletvekiline düşen kişi sayısı ise 160.474 kişidir.\n",
    "\n",
    "https://www.resmigazete.gov.tr/eskiler/2022/04/20220405-5.pdf\n",
    "\n",
    "Katılım oranını %80 olarak alırsak oy kullanacak kişi sayısı yaklaşık olarak 4.500.000 olur."
   ]
  },
  {
   "cell_type": "code",
   "execution_count": 4,
   "metadata": {},
   "outputs": [
    {
     "name": "stdout",
     "output_type": "stream",
     "text": [
      "100\n"
     ]
    }
   ],
   "source": [
    "kullanilan_toplam_oy = 4500000\n",
    "partiler = {\n",
    "    \"CHP\": 35,\n",
    "    \"AKP\": 30,\n",
    "    \"HDP\": 10,\n",
    "    \"İYİP\": 8,\n",
    "    \"MHP\": 7,\n",
    "    \"TİP\": 10,\n",
    "    \"DİĞER\": 0,\n",
    "}\n",
    "\n",
    "print(sum(partiler.values()))\n",
    "\n",
    "assert (\n",
    "    sum(partiler.values()) == 100\n",
    "), \"Tahminlerin toplamı 100 olmalı, toplam: {}\".format(sum(partiler.values()))\n"
   ]
  },
  {
   "attachments": {},
   "cell_type": "markdown",
   "metadata": {},
   "source": [
    "## 4.1 Arayüzün parçalarını oluşturalım\n",
    "\n",
    "Önce tüm oylar\n"
   ]
  },
  {
   "cell_type": "code",
   "execution_count": 5,
   "metadata": {},
   "outputs": [],
   "source": [
    "import ipywidgets as widgets\n",
    "from IPython.display import display, clear_output\n"
   ]
  },
  {
   "cell_type": "code",
   "execution_count": 6,
   "metadata": {},
   "outputs": [
    {
     "data": {
      "application/vnd.jupyter.widget-view+json": {
       "model_id": "a119cabde32b498a94607a20b65d4973",
       "version_major": 2,
       "version_minor": 0
      },
      "text/plain": [
       "IntSlider(value=4500000, description='Bölgedeki Tüm Oylar:', layout=Layout(width='90%'), max=100000000, step=1…"
      ]
     },
     "metadata": {},
     "output_type": "display_data"
    }
   ],
   "source": [
    "tum_oylar = widgets.IntSlider(\n",
    "    value=kullanilan_toplam_oy,\n",
    "    min=0,\n",
    "    max=100000000,\n",
    "    step=1000,\n",
    "    description=\"Bölgedeki Tüm Oylar:\",\n",
    "    style={\"description_width\": \"initial\"},\n",
    "    layout=widgets.Layout(width=\"90%\"),\n",
    "    readout_style=\"font-size: 18px;\",\n",
    ")\n",
    "\n",
    "display(tum_oylar)\n"
   ]
  },
  {
   "attachments": {},
   "cell_type": "markdown",
   "metadata": {},
   "source": [
    "Sandalye sayısı"
   ]
  },
  {
   "cell_type": "code",
   "execution_count": 7,
   "metadata": {},
   "outputs": [
    {
     "data": {
      "application/vnd.jupyter.widget-view+json": {
       "model_id": "e80416c80806444596c50bfad7cbdc05",
       "version_major": 2,
       "version_minor": 0
      },
      "text/plain": [
       "IntSlider(value=35, description='Sandalye Sayisi:', layout=Layout(width='90%'), max=600, style=SliderStyle(des…"
      ]
     },
     "metadata": {},
     "output_type": "display_data"
    }
   ],
   "source": [
    "sandalye_sayisi = widgets.IntSlider(\n",
    "    value=35,\n",
    "    min=0,\n",
    "    max=600,\n",
    "    step=1,\n",
    "    description=\"Sandalye Sayisi:\",\n",
    "    style={\"description_width\": \"initial\"},\n",
    "    layout=widgets.Layout(width=\"90%\"),\n",
    "    readout_style=\"font-size: 18px;\",\n",
    ")\n",
    "\n",
    "display(sandalye_sayisi)\n"
   ]
  },
  {
   "cell_type": "markdown",
   "metadata": {},
   "source": [
    "Partilerin oy oranları"
   ]
  },
  {
   "cell_type": "code",
   "execution_count": 8,
   "metadata": {},
   "outputs": [
    {
     "data": {
      "application/vnd.jupyter.widget-view+json": {
       "model_id": "04ce208c57524927ac9193b84673348c",
       "version_major": 2,
       "version_minor": 0
      },
      "text/plain": [
       "VBox(children=(FloatSlider(value=35.0, description='CHP Oy Oranı (%)', layout=Layout(width='90%'), style=Slide…"
      ]
     },
     "metadata": {},
     "output_type": "display_data"
    }
   ],
   "source": [
    "partilerin_oylari = {}\n",
    "for parti, oran in partiler.items():\n",
    "    partilerin_oylari[parti] = widgets.FloatSlider(\n",
    "        value=oran,\n",
    "        min=0.0,\n",
    "        max=100.0,\n",
    "        step=0.1,\n",
    "        description=f\"{parti} Oy Oranı (%)\",\n",
    "        style={\"description_width\": \"initial\"},\n",
    "        layout=widgets.Layout(width=\"90%\"),\n",
    "        readout_style=\"font-size: 18px;\",\n",
    "    )\n",
    "\n",
    "\n",
    "container = widgets.VBox()\n",
    "for party, slider in partilerin_oylari.items():\n",
    "    container.children += (slider,)\n",
    "\n",
    "display(container)\n"
   ]
  },
  {
   "attachments": {},
   "cell_type": "markdown",
   "metadata": {},
   "source": [
    "Hepsi birlikte"
   ]
  },
  {
   "cell_type": "code",
   "execution_count": 9,
   "metadata": {},
   "outputs": [
    {
     "data": {
      "application/vnd.jupyter.widget-view+json": {
       "model_id": "196e18d5ba4c4ccf82aa0befaa28f9be",
       "version_major": 2,
       "version_minor": 0
      },
      "text/plain": [
       "VBox(children=(IntSlider(value=4500000, description='Bölgedeki Tüm Oylar:', layout=Layout(width='90%'), max=10…"
      ]
     },
     "metadata": {},
     "output_type": "display_data"
    }
   ],
   "source": [
    "buton = widgets.Button(\n",
    "    description=\"Dağılım Hesapla\", layout=widgets.Layout(width=\"90%\")\n",
    ")\n",
    "sonuc = widgets.Output()\n",
    "\n",
    "container = widgets.VBox([tum_oylar, sandalye_sayisi])\n",
    "for party, slider in partilerin_oylari.items():\n",
    "    container.children += (slider,)\n",
    "\n",
    "container.children += (buton, sonuc)\n",
    "\n",
    "display(container)\n"
   ]
  },
  {
   "attachments": {},
   "cell_type": "markdown",
   "metadata": {},
   "source": [
    "## 4.2 Hesaplama Fonksiyonunu yazalım\n",
    "\n",
    "Yukarıda gördüğünüz gibi dağılımı hesapla tuşu hiçbir şey yapmıyor. Şimdi bunu yapalım."
   ]
  },
  {
   "cell_type": "code",
   "execution_count": 10,
   "metadata": {},
   "outputs": [],
   "source": [
    "def sonuc_hesapla(tum_oylar, sandalye_sayisi, parti_oylari):\n",
    "    bolenler = {}\n",
    "\n",
    "    for parti, oylar in parti_oylari.items():\n",
    "        bolenler[parti] = []\n",
    "        for i in range(1, sandalye_sayisi + 1):\n",
    "            bolen = (oylar / 100) * (tum_oylar / i)\n",
    "            bolenler[parti].append(bolen)\n",
    "\n",
    "    sandalye = {}\n",
    "\n",
    "    for i in range(sandalye_sayisi):\n",
    "        max_bolum = 0\n",
    "        kazanan_parti = None\n",
    "        for parti, bolen_listesi in bolenler.items():\n",
    "            bolum = bolen_listesi[0]\n",
    "            if bolum > max_bolum:\n",
    "                max_bolum = bolum\n",
    "                kazanan_parti = parti\n",
    "        sandalye[kazanan_parti] = sandalye.get(kazanan_parti, 0) + 1\n",
    "        bolenler[kazanan_parti].pop(0)\n",
    "\n",
    "    return sandalye"
   ]
  },
  {
   "cell_type": "code",
   "execution_count": 11,
   "metadata": {},
   "outputs": [],
   "source": [
    "def on_button_click(b):\n",
    "    parti_oylari = {}\n",
    "    toplam_yuzde = 0\n",
    "    for parti, slider in partilerin_oylari.items():\n",
    "        yuzde = slider.value\n",
    "        toplam_yuzde += yuzde\n",
    "        parti_oylari[parti] = yuzde\n",
    "    if toplam_yuzde != 100:\n",
    "        with sonuc:\n",
    "            clear_output()\n",
    "            print(f\"Tahminlerin toplamı 100 olmalı! Şu an toplam: {toplam_yuzde}\")\n",
    "    else:\n",
    "        with sonuc:\n",
    "            clear_output()\n",
    "            sonuclar = sonuc_hesapla(tum_oylar.value, sandalye_sayisi.value, parti_oylari)\n",
    "            for parti, sayi in sonuclar.items():\n",
    "                print(f\"{parti} milletvekili sayısı: {sayi}\")\n",
    "\n",
    "\n",
    "buton.on_click(on_button_click)\n"
   ]
  },
  {
   "attachments": {},
   "cell_type": "markdown",
   "metadata": {},
   "source": [
    "## 4.3 Hepsini Bir Araya Toplayalım"
   ]
  },
  {
   "cell_type": "code",
   "execution_count": 12,
   "metadata": {},
   "outputs": [],
   "source": [
    "buton = widgets.Button(\n",
    "    description=\"Dağılım Hesapla\", layout=widgets.Layout(width=\"90%\")\n",
    ")\n",
    "buton.on_click(on_button_click)\n",
    "sonuc = widgets.Output()\n",
    "\n",
    "container = widgets.VBox([tum_oylar, sandalye_sayisi])\n",
    "for party, slider in partilerin_oylari.items():\n",
    "    container.children += (slider,)\n",
    "\n",
    "container.children += (buton, sonuc)"
   ]
  },
  {
   "attachments": {},
   "cell_type": "markdown",
   "metadata": {},
   "source": [
    "## 4.4 Hepsi Tamam Şimdi Oynayabiliriz\n",
    "\n",
    "Not : Herhangi bir noktada bozulduğunu düşünürseniz **Restart** ve **Run All** tuşlarına basın. Her şey sıfırlanacak ve yeniden hesaplanacaktır."
   ]
  },
  {
   "cell_type": "code",
   "execution_count": 13,
   "metadata": {},
   "outputs": [
    {
     "data": {
      "application/vnd.jupyter.widget-view+json": {
       "model_id": "772a13ac9aaf4b1e8a1eb2980950fd5c",
       "version_major": 2,
       "version_minor": 0
      },
      "text/plain": [
       "VBox(children=(IntSlider(value=4500000, description='Bölgedeki Tüm Oylar:', layout=Layout(width='90%'), max=10…"
      ]
     },
     "metadata": {},
     "output_type": "display_data"
    }
   ],
   "source": [
    "display(container)\n"
   ]
  },
  {
   "cell_type": "code",
   "execution_count": null,
   "metadata": {},
   "outputs": [],
   "source": []
  }
 ],
 "metadata": {
  "kernelspec": {
   "display_name": "tensorflow-env",
   "language": "python",
   "name": "python3"
  },
  "language_info": {
   "codemirror_mode": {
    "name": "ipython",
    "version": 3
   },
   "file_extension": ".py",
   "mimetype": "text/x-python",
   "name": "python",
   "nbconvert_exporter": "python",
   "pygments_lexer": "ipython3",
   "version": "3.10.4"
  },
  "orig_nbformat": 4
 },
 "nbformat": 4,
 "nbformat_minor": 2
}
